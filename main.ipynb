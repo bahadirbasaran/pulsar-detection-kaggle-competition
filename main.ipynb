{
  "nbformat": 4,
  "nbformat_minor": 0,
  "metadata": {
    "colab": {
      "name": "main.ipynb",
      "provenance": [],
      "collapsed_sections": [],
      "authorship_tag": "ABX9TyOUQ8EzgDmZWSXKi8W0Ly2q",
      "include_colab_link": true
    },
    "kernelspec": {
      "name": "python3",
      "display_name": "Python 3"
    }
  },
  "cells": [
    {
      "cell_type": "markdown",
      "metadata": {
        "id": "view-in-github",
        "colab_type": "text"
      },
      "source": [
        "<a href=\"https://colab.research.google.com/github/bahadirbasaran/pulsarDetection/blob/master/main.ipynb\" target=\"_parent\"><img src=\"https://colab.research.google.com/assets/colab-badge.svg\" alt=\"Open In Colab\"/></a>"
      ]
    },
    {
      "cell_type": "markdown",
      "metadata": {
        "id": "UHpHkJ2s5agi",
        "colab_type": "text"
      },
      "source": [
        "**Environment**"
      ]
    },
    {
      "cell_type": "code",
      "metadata": {
        "id": "r_GMziS75AZM",
        "colab_type": "code",
        "colab": {}
      },
      "source": [
        "import copy\n",
        "import numpy as np\n",
        "import pandas as pd\n",
        "import seaborn as sb\n",
        "import matplotlib.pyplot as plt\n",
        "from matplotlib.colors import ListedColormap\n",
        "from sklearn.svm import SVC\n",
        "from sklearn.metrics import accuracy_score\n",
        "from sklearn.model_selection import train_test_split, KFold\n",
        "from sklearn.preprocessing import StandardScaler\n",
        "from sklearn.neighbors import KNeighborsClassifier\n",
        "from sklearn.model_selection import GridSearchCV"
      ],
      "execution_count": 0,
      "outputs": []
    },
    {
      "cell_type": "markdown",
      "metadata": {
        "id": "ywWiUdDj5zPK",
        "colab_type": "text"
      },
      "source": [
        "**Function&Class Definitions**"
      ]
    },
    {
      "cell_type": "code",
      "metadata": {
        "id": "KC07KRv759Ry",
        "colab_type": "code",
        "colab": {}
      },
      "source": [
        "def createDataSplits(dataset, list_dataColumns, targetColumn, testSizeRatio):\n",
        "    \n",
        "    X = dataset[dataset.columns[list_dataColumns]]\n",
        "    y = dataset[dataset.columns[targetColumn]]\n",
        "    \n",
        "    X_train, X_test, y_train, y_test = train_test_split(X, y, test_size = testSizeRatio, stratify=y, random_state=42)\n",
        "    \n",
        "    scaler = StandardScaler()\n",
        "    X_train = scaler.fit_transform(X_train)\n",
        "    X_test = scaler.transform(X_test)\n",
        "\n",
        "    return X_train, X_test, y_train, y_test"
      ],
      "execution_count": 0,
      "outputs": []
    },
    {
      "cell_type": "markdown",
      "metadata": {
        "id": "XhHLuDFgCNWE",
        "colab_type": "text"
      },
      "source": [
        "**Data Importation**"
      ]
    },
    {
      "cell_type": "code",
      "metadata": {
        "id": "tTIKNq5GCRXx",
        "colab_type": "code",
        "colab": {}
      },
      "source": [
        "pulsarData = pd.read_csv('https://raw.githubusercontent.com/bahadirbasaran/pulsarDetection/master/pulsar_stars.csv?token=ALRHARXNN6L47R4KLJOGKP26LQWMU')"
      ],
      "execution_count": 0,
      "outputs": []
    },
    {
      "cell_type": "markdown",
      "metadata": {
        "id": "w9YAmh7P6EyV",
        "colab_type": "text"
      },
      "source": [
        "**Data Visualization**"
      ]
    },
    {
      "cell_type": "code",
      "metadata": {
        "id": "9yBdhGhI6O0X",
        "colab_type": "code",
        "colab": {}
      },
      "source": [
        "pulsarData.info()\n",
        "datasetStats = pulsarData.describe()\n",
        "\n",
        "# Correlation Matrix Heatmap\n",
        "_, ax = plt.subplots(figsize = (10,10))\n",
        "hm = sb.heatmap(pulsarData.corr(), annot = True, linewidths=.5, fmt = \".3f\", ax=ax)\n",
        "bottom, top = hm.get_ylim()\n",
        "hm.set_ylim(bottom + 0.5, top - 0.5)\n",
        "plt.show()\n",
        "\n",
        "# Pair Plot\n",
        "g = sb.pairplot(pulsarData)\n",
        "\n",
        "# Bar Plot\n",
        "_, ax1 = plt.subplots(3,3, figsize=(15,10))\n",
        "k = 0\n",
        "for i in range(3):\n",
        "    for j in range(3):\n",
        "        if k != 10:\n",
        "            sb.barplot(x='target_class', y=pulsarData.iloc[:,k], data=pulsarData, ax = ax1[i][j])\n",
        "            k += 1            \n",
        "plt.show()\n"
      ],
      "execution_count": 0,
      "outputs": []
    },
    {
      "cell_type": "markdown",
      "metadata": {
        "id": "LhVOzurJ7Hib",
        "colab_type": "text"
      },
      "source": [
        "**bold text**"
      ]
    },
    {
      "cell_type": "code",
      "metadata": {
        "id": "SoSYGdl37N42",
        "colab_type": "code",
        "colab": {}
      },
      "source": [
        "X_train, X_test, y_train, y_test = createDataSplits(pulsarData, [0,1,2,3,4,5,6,7], 8, 0.3)\n"
      ],
      "execution_count": 0,
      "outputs": []
    }
  ]
}