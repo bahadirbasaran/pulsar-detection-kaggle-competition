{
  "nbformat": 4,
  "nbformat_minor": 0,
  "metadata": {
    "colab": {
      "name": "main.ipynb",
      "provenance": [],
      "collapsed_sections": [],
      "authorship_tag": "ABX9TyOUyi1h8LrKuQgxMefGB3e2",
      "include_colab_link": true
    },
    "kernelspec": {
      "name": "python3",
      "display_name": "Python 3"
    }
  },
  "cells": [
    {
      "cell_type": "markdown",
      "metadata": {
        "id": "view-in-github",
        "colab_type": "text"
      },
      "source": [
        "<a href=\"https://colab.research.google.com/github/bahadirbasaran/pulsarDetection/blob/master/main.ipynb\" target=\"_parent\"><img src=\"https://colab.research.google.com/assets/colab-badge.svg\" alt=\"Open In Colab\"/></a>"
      ]
    },
    {
      "cell_type": "markdown",
      "metadata": {
        "id": "UHpHkJ2s5agi",
        "colab_type": "text"
      },
      "source": [
        "**Environment**"
      ]
    },
    {
      "cell_type": "code",
      "metadata": {
        "id": "r_GMziS75AZM",
        "colab_type": "code",
        "colab": {}
      },
      "source": [
        "import copy\n",
        "import numpy as np\n",
        "import pandas as pd\n",
        "import seaborn as sb\n",
        "import matplotlib.pyplot as plt\n",
        "from matplotlib.colors import ListedColormap\n",
        "from sklearn.svm import SVC\n",
        "from sklearn.preprocessing import StandardScaler\n",
        "from sklearn.neighbors import KNeighborsClassifier\n",
        "from sklearn.model_selection import train_test_split, KFold, GridSearchCV, learning_curve\n",
        "from sklearn.metrics import accuracy_score, mean_squared_error, cohen_kappa_score, confusion_matrix, classification_report"
      ],
      "execution_count": 0,
      "outputs": []
    },
    {
      "cell_type": "markdown",
      "metadata": {
        "id": "ywWiUdDj5zPK",
        "colab_type": "text"
      },
      "source": [
        "**Function&Class Definitions**"
      ]
    },
    {
      "cell_type": "code",
      "metadata": {
        "id": "KC07KRv759Ry",
        "colab_type": "code",
        "colab": {}
      },
      "source": [
        "def plot_2d_space(X, y, label='Classes', saveName=None):   \n",
        "  colors = ['#1F77B4', '#FF7F0E']\n",
        "  markers = ['o', 's']\n",
        "  for l, c, m in zip(np.unique(y), colors, markers):\n",
        "    plt.scatter(X[y==l, 0], X[y==l, 1], c=c, label=l, marker=m)\n",
        "  plt.title(label)\n",
        "  plt.legend(loc='upper right')\n",
        "  if saveName is None:\n",
        "    plt.show()\n",
        "  else:\n",
        "    plt.savefig(saveName)\n",
        "\n",
        "def plot_roc_curve(fpr, tpr, auc_score, saveName=None):\n",
        "  plt.plot(fpr, tpr, color='orange', label=('AUC Score: ',auc_score))\n",
        "  plt.plot([0, 1], [0, 1], color='darkblue', linestyle='--')\n",
        "  plt.xlabel('False Positive Rate')\n",
        "  plt.ylabel('True Positive Rate')\n",
        "  plt.title('Receiver Operating Characteristic (ROC) Curve')\n",
        "  plt.legend(loc='best')\n",
        "  if saveName is None:\n",
        "    plt.show()\n",
        "  else:\n",
        "    plt.savefig(saveName)\n",
        "\n",
        "def plot_learning_curve(estimator, title, X, y, ylim=None, cv=None, n_jobs=None, train_sizes=np.linspace(.1, 1.0, 5)):\n",
        "  plt.figure()\n",
        "  plt.title(title)\n",
        "  if ylim is not None:\n",
        "    plt.ylim(*ylim)\n",
        "  plt.xlabel(\"Training examples\")\n",
        "  plt.ylabel(\"Score\")\n",
        "  train_sizes, train_scores, test_scores = learning_curve(estimator, X, y, cv=cv, n_jobs=n_jobs, train_sizes=train_sizes)\n",
        "  train_scores_mean = np.mean(train_scores, axis=1)\n",
        "  train_scores_std = np.std(train_scores, axis=1)\n",
        "  test_scores_mean = np.mean(test_scores, axis=1)\n",
        "  test_scores_std = np.std(test_scores, axis=1)\n",
        "  plt.grid()\n",
        "\n",
        "  plt.fill_between(train_sizes, train_scores_mean - train_scores_std, train_scores_mean + train_scores_std, alpha=0.1, color=\"r\")\n",
        "  plt.fill_between(train_sizes, test_scores_mean - test_scores_std, test_scores_mean + test_scores_std, alpha=0.1, color=\"g\")\n",
        "  plt.plot(train_sizes, train_scores_mean, 'o-', color=\"r\", label=\"Training score\")\n",
        "  plt.plot(train_sizes, test_scores_mean, 'o-', color=\"g\", label=\"Cross-validation score\")\n",
        "  plt.legend(loc=\"best\")\n",
        "  \n",
        "  return plt\n",
        "\n",
        "def evaluateClassifier(classifier, y_true, y_pred, probabilities, feature_importances):  \n",
        "  score_acc = accuracy_score(y_true,y_pred)\n",
        "  print(\"\\nAccuracy Score of {}: {}\".format(classifier, score_acc))\n",
        "\n",
        "  classificationReport = classification_report(y_true,y_pred)\n",
        "  print(\"\\nClassification Report of {}: {}\".format(classifier, classificationReport))\n",
        "\n",
        "  score_cohenKappa = cohen_kappa_score(y_true, y_pred)\n",
        "  print(\"\\nCohen Kappa Score of {}: {}\".format(classifier, score_cohenKappa))\n",
        "\n",
        "  score_mse = mean_squared_error(y_true, y_pred)\n",
        "  print(\"\\nMean Squared Error Score of {}: {}\".format(classifier, score_mse))\n",
        "\n",
        "  plt.figure(figsize=(13,10))\n",
        "  plt.subplot(221)\n",
        "  sb.heatmap(confusion_matrix(y_true,y_pred),annot=True,fmt = \"d\",linecolor=\"k\",linewidths=3)\n",
        "  plt.title(\"Confusion Matrix of {}\".format(classifier),fontsize=20)\n",
        "  plt.show()\n",
        "\n",
        "  false_positive_rate, true_positive_rate, thresholds = roc_curve(y_true, probabilities)\n",
        "  plt.subplot(222)\n",
        "  plot_roc_curve(false_positive_rate, true_positive_rate, roc_auc_score(y_true, probabilities))\n",
        "\n",
        "  plt.subplot(223)\n",
        "  sb.barplot(x=feature_importances, y=feature_importances.index)\n",
        "  plt.title('Feature importances')\n",
        "  plt.xlabel('Score')\n",
        "  plt.show()\n",
        "\n",
        "def executeClassifier(classifier, xTrain, yTrain, xTest, yTest, n_fold, paramSet):\n",
        "  gs = GridSearchCV(\n",
        "                    estimator = classifier,\n",
        "                    param_grid = paramSet,\n",
        "                    cv = n_fold,      \n",
        "                    n_jobs = -1\n",
        "                   ) \n",
        "  gs.fit(xTrain, yTrain)\n",
        "\n",
        "  print(\"\\n{} Best Score: {}\".format(classifier, gs.best_score_))\n",
        "  print(\"\\n{} Best Parameters Set:\\n\".format(classifier))\n",
        "  for param in sorted(paramSet.keys()):\n",
        "    print(\"Parameter {}: {}\".format(param, gs.best_estimator_.get_params()[param]))\n",
        "\n",
        "  y_pred = gs.predict(xTest)\n",
        "\n",
        "  #Predict probabilities for the test data and Keep Probabilities of the positive class only.\n",
        "  probs = gs.predict_proba(xTest)[:, 1]\n",
        "\n",
        "  featureImportances = pd.Series(gs.feature_importances_, index=dataset.columns[:-1]).sort_values(ascending=False)\n",
        "\n",
        "  evaluateClassifier(classifier, gs, yTest, y_pred, probs, featureImportances)\n",
        "\n",
        "  plt.subplot(224)\n",
        "  plot_learning_curve(gs, \"Learning Curve\", xTrain, yTrain)\n",
        "\n",
        "def createDataSplits(dataset, list_dataColumns, targetColumn, testSizeRatio, randomState=42, oversample=True, normalize=True):   \n",
        "  X = dataset[dataset.columns[list_dataColumns]]\n",
        "  y = dataset[dataset.columns[targetColumn]]\n",
        "    \n",
        "  X_train, X_test, y_train, y_test = train_test_split(X, y, test_size = testSizeRatio, random_state=randomState)\n",
        "    \n",
        "  if normalize == True:\n",
        "    scaler = StandardScaler()\n",
        "    X_train = scaler.fit_transform(X_train)\n",
        "    X_test = scaler.transform(X_test)\n",
        "        \n",
        "  #Index of X_train and X_test are changed. We must reset the index of y_train and y_test.Otherwise, index mismatch error.\n",
        "  y_train = y_train.reset_index(drop=True)\n",
        "  y_test = y_test.reset_index(drop=True)\n",
        "\n",
        "  #Oversampling to balance the data set        \n",
        "  if oversample == True:\n",
        "    sm = SMOTE(sampling_strategy='minority', random_state=randomState)\n",
        "    X_train, y_train = sm.fit_sample(X_train, y_train)   \n",
        "    plot_2d_space(X_train, y_train, label='Dataset After Oversampling')  \n",
        "\n",
        "  return X_train, X_test, y_train, y_test"
      ],
      "execution_count": 0,
      "outputs": []
    },
    {
      "cell_type": "markdown",
      "metadata": {
        "id": "XhHLuDFgCNWE",
        "colab_type": "text"
      },
      "source": [
        "**Data Importation**"
      ]
    },
    {
      "cell_type": "code",
      "metadata": {
        "id": "tTIKNq5GCRXx",
        "colab_type": "code",
        "colab": {}
      },
      "source": [
        "dataset = pd.read_csv('https://raw.githubusercontent.com/bahadirbasaran/pulsarDetection/master/pulsar_stars.csv?token=ALRHARXNN6L47R4KLJOGKP26LQWMU')"
      ],
      "execution_count": 0,
      "outputs": []
    },
    {
      "cell_type": "markdown",
      "metadata": {
        "id": "w9YAmh7P6EyV",
        "colab_type": "text"
      },
      "source": [
        "**Data Visualization**"
      ]
    },
    {
      "cell_type": "code",
      "metadata": {
        "id": "9yBdhGhI6O0X",
        "colab_type": "code",
        "colab": {}
      },
      "source": [
        "dataset.info()\n",
        "datasetStats = dataset.describe()\n",
        "\n",
        "# Correlation Matrix Heatmap\n",
        "_, ax = plt.subplots(figsize = (10,10))\n",
        "hm = sb.heatmap(dataset.corr(), annot = True, linewidths=.5, fmt = \".3f\", ax=ax)\n",
        "bottom, top = hm.get_ylim()\n",
        "hm.set_ylim(bottom + 0.5, top - 0.5)\n",
        "plt.show()\n",
        "\n",
        "# Pair Plot\n",
        "sb.pairplot(data=dataset,\n",
        "             palette=\"husl\",\n",
        "             hue=\"target_class\",\n",
        "             vars=list(dataset.columns))\n",
        "plt.tight_layout()\n",
        "plt.show()\n",
        "\n",
        "# Violin Plot\n",
        "plt.figure(figsize=(17,15))\n",
        "for i in range(8):\n",
        "    plt.subplot(4,4,i+1)\n",
        "    sb.violinplot(data=dataset, y=dataset.columns[i], x=\"target_class\")\n",
        "plt.show()\n",
        "\n",
        "# Bar Plot\n",
        "_, ax1 = plt.subplots(3,3, figsize=(15,10))\n",
        "k = 0\n",
        "for i in range(3):\n",
        "    for j in range(3):\n",
        "        if k != 8:\n",
        "            sb.barplot(x='target_class', y=dataset.columns[k], data=dataset, ax = ax1[i][j])\n",
        "            k += 1            \n",
        "plt.show()\n",
        "\n",
        "# Joint Plot\n",
        "sb.jointplot(x=dataset.columns[0], y=dataset.columns[1], data=dataset, kind='kde', height=12)\n"
      ],
      "execution_count": 0,
      "outputs": []
    },
    {
      "cell_type": "markdown",
      "metadata": {
        "id": "LhVOzurJ7Hib",
        "colab_type": "text"
      },
      "source": [
        "**bold text**"
      ]
    },
    {
      "cell_type": "code",
      "metadata": {
        "id": "SoSYGdl37N42",
        "colab_type": "code",
        "colab": {}
      },
      "source": [
        "X_train, X_test, y_train, y_test = createDataSplits(dataset, [0,1,2,3,4,5,6,7], 8, 0.3)\n"
      ],
      "execution_count": 0,
      "outputs": []
    }
  ]
}